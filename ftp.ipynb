{
 "cells": [
  {
   "cell_type": "code",
   "execution_count": 27,
   "metadata": {},
   "outputs": [],
   "source": [
    "import ftplib\n",
    "host = '0.0.0.0' # change ftp address you want\n",
    "username = 'forftp'\n",
    "password = '123'"
   ]
  },
  {
   "cell_type": "code",
   "execution_count": 28,
   "metadata": {},
   "outputs": [],
   "source": [
    "def ftp_connect(host, username, password):\n",
    "    f = ftplib.FTP() # initialize ftp object\n",
    "    # f.set_debuglevel(2) # maximum output\n",
    "    f.connect(host)\n",
    "    f.login(username, password) \n",
    "    print(f.getwelcome())\n",
    "    return f\n",
    "#f = ftplib.FTP(host)  \n",
    "#f.login(username, password)  # login"
   ]
  },
  {
   "cell_type": "code",
   "execution_count": 29,
   "metadata": {},
   "outputs": [
    {
     "name": "stdout",
     "output_type": "stream",
     "text": [
      "220 Microsoft FTP Service\n"
     ]
    }
   ],
   "source": [
    "ftp = ftp_connect(host, username, password)"
   ]
  },
  {
   "cell_type": "code",
   "execution_count": 30,
   "metadata": {},
   "outputs": [],
   "source": [
    "def ftp_path_information(f):\n",
    "    pwd_path = f.pwd()\n",
    "    print(\"Current ftp path is: \", pwd_path)\n",
    "    print(\"Files and directors:\")\n",
    "    print(f.retrlines('LIST'))"
   ]
  },
  {
   "cell_type": "code",
   "execution_count": 31,
   "metadata": {},
   "outputs": [
    {
     "name": "stdout",
     "output_type": "stream",
     "text": [
      "Current ftp path is:  /\n",
      "Files and directors:\n",
      "06-18-19  11:38AM                    7 1.txt\n",
      "06-20-19  12:57PM       <DIR>          dir\n",
      "06-18-19  03:57PM               592055 p1.jpg\n",
      "06-18-19  11:43AM                    0 test.docx\n",
      "06-18-19  03:57PM                    0 upload.txt\n",
      "226 Transfer complete.\n"
     ]
    }
   ],
   "source": [
    "ftp_path_information(ftp)"
   ]
  },
  {
   "cell_type": "code",
   "execution_count": 35,
   "metadata": {},
   "outputs": [
    {
     "data": {
      "text/plain": [
       "'250 CWD command successful.'"
      ]
     },
     "execution_count": 35,
     "metadata": {},
     "output_type": "execute_result"
    }
   ],
   "source": [
    "ftp.cwd('dir')"
   ]
  },
  {
   "cell_type": "code",
   "execution_count": 36,
   "metadata": {},
   "outputs": [
    {
     "name": "stdout",
     "output_type": "stream",
     "text": [
      "Current ftp path is:  /dir\n",
      "Files and directors:\n",
      "226 Transfer complete.\n"
     ]
    }
   ],
   "source": [
    "ftp_path_information(ftp)"
   ]
  },
  {
   "cell_type": "code",
   "execution_count": 37,
   "metadata": {},
   "outputs": [
    {
     "data": {
      "text/plain": [
       "'250 CWD command successful.'"
      ]
     },
     "execution_count": 37,
     "metadata": {},
     "output_type": "execute_result"
    }
   ],
   "source": [
    "ftp.cwd('/')"
   ]
  },
  {
   "cell_type": "code",
   "execution_count": 38,
   "metadata": {},
   "outputs": [
    {
     "name": "stdout",
     "output_type": "stream",
     "text": [
      "Current ftp path is:  /\n",
      "Files and directors:\n",
      "06-18-19  11:38AM                    7 1.txt\n",
      "06-20-19  12:57PM       <DIR>          dir\n",
      "06-18-19  03:57PM               592055 p1.jpg\n",
      "06-18-19  11:43AM                    0 test.docx\n",
      "06-18-19  03:57PM                    0 upload.txt\n",
      "226 Transfer complete.\n"
     ]
    }
   ],
   "source": [
    "ftp_path_information(ftp)"
   ]
  },
  {
   "cell_type": "code",
   "execution_count": 6,
   "metadata": {},
   "outputs": [],
   "source": [
    "file_remote = '1.txt'\n",
    "file_local = 'F:\\\\ftp_download\\\\download.txt'"
   ]
  },
  {
   "cell_type": "code",
   "execution_count": null,
   "metadata": {},
   "outputs": [],
   "source": []
  },
  {
   "cell_type": "code",
   "execution_count": 7,
   "metadata": {},
   "outputs": [],
   "source": [
    "def ftp_download(file_remote, file_local):\n",
    "    '''download files in binary'''\n",
    "    f = ftp_connect(host, username, password)\n",
    "    bufsize = 1024  # set buffer size\n",
    "    fp = open(file_local, 'wb')\n",
    "    f.retrbinary('RETR %s' % file_remote, fp.write, bufsize)\n",
    "    fp.close()\n",
    "    f.quit()"
   ]
  },
  {
   "cell_type": "code",
   "execution_count": 8,
   "metadata": {},
   "outputs": [
    {
     "name": "stdout",
     "output_type": "stream",
     "text": [
      "220 Microsoft FTP Service\n"
     ]
    }
   ],
   "source": [
    "ftp_download(file_remote, file_local)"
   ]
  },
  {
   "cell_type": "code",
   "execution_count": 9,
   "metadata": {},
   "outputs": [],
   "source": [
    "file_remote = 'upload.txt'\n",
    "file_local = 'F:\\\\ftp_download\\\\1.txt'"
   ]
  },
  {
   "cell_type": "code",
   "execution_count": 10,
   "metadata": {},
   "outputs": [],
   "source": [
    "# when already open a connetion, we have to end it then open a new connection\n",
    "def ftp_upload(file_local, file_remote):\n",
    "    '''upload files in binary'''\n",
    "    f = ftp_connect(host, username, password)\n",
    "    bufsize = 1024  \n",
    "    fp = open(file_local, 'rb')\n",
    "    f.storbinary('STOR %s' % file_remote, fp, bufsize)\n",
    "    fp.close()\n",
    "    f.quit()"
   ]
  },
  {
   "cell_type": "code",
   "execution_count": 11,
   "metadata": {},
   "outputs": [
    {
     "name": "stdout",
     "output_type": "stream",
     "text": [
      "220 Microsoft FTP Service\n"
     ]
    }
   ],
   "source": [
    "ftp_upload(file_local, file_remote)"
   ]
  },
  {
   "cell_type": "code",
   "execution_count": 12,
   "metadata": {},
   "outputs": [
    {
     "name": "stdout",
     "output_type": "stream",
     "text": [
      "220 Microsoft FTP Service\n"
     ]
    }
   ],
   "source": [
    "file_remote = 'p1.jpg'\n",
    "file_local = 'F:\\\\ftp_download\\\\p1.jpg'\n",
    "ftp_upload(file_local, file_remote)"
   ]
  },
  {
   "cell_type": "code",
   "execution_count": 13,
   "metadata": {},
   "outputs": [],
   "source": [
    "import threading\n",
    "def ftp_multithreading(func, filenames):\n",
    "    t = threading.Thread(target=func, args=(filenames))\n",
    "    t.start()"
   ]
  },
  {
   "cell_type": "code",
   "execution_count": 14,
   "metadata": {},
   "outputs": [
    {
     "name": "stdout",
     "output_type": "stream",
     "text": [
      "220 Microsoft FTP Service\n"
     ]
    }
   ],
   "source": [
    "ftp_multithreading(ftp_upload, (file_local, file_remote))"
   ]
  },
  {
   "cell_type": "code",
   "execution_count": null,
   "metadata": {},
   "outputs": [],
   "source": []
  }
 ],
 "metadata": {
  "kernelspec": {
   "display_name": "Python 3",
   "language": "python",
   "name": "python3"
  },
  "language_info": {
   "codemirror_mode": {
    "name": "ipython",
    "version": 3
   },
   "file_extension": ".py",
   "mimetype": "text/x-python",
   "name": "python",
   "nbconvert_exporter": "python",
   "pygments_lexer": "ipython3",
   "version": "3.7.3"
  }
 },
 "nbformat": 4,
 "nbformat_minor": 2
}
